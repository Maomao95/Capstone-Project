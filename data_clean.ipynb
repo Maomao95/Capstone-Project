{
 "cells": [
  {
   "cell_type": "code",
   "execution_count": 1,
   "metadata": {},
   "outputs": [],
   "source": [
    "import numpy as np\n",
    "import pandas as pd\n",
    "pd.set_option('display.max_columns', None)\n",
    "pd.set_option('display.max_rows', None)\n",
    "import re\n",
    "import warnings\n",
    "warnings.filterwarnings('ignore')"
   ]
  },
  {
   "cell_type": "markdown",
   "metadata": {},
   "source": [
    "# Data Import"
   ]
  },
  {
   "cell_type": "code",
   "execution_count": 2,
   "metadata": {},
   "outputs": [],
   "source": [
    "data_1 = pd.read_csv('./data/2019.csv', index_col=None, encoding = 'gb18030')\n",
    "data_2 = pd.read_csv('./data/2013.08-2018.12.csv', index_col=None, encoding = 'gb18030')\n",
    "data_3 = pd.read_csv('./data/2010.01-2013.08.csv', index_col=None, encoding = 'gb18030')\n",
    "data_4 = pd.read_csv('./data/2019.01-2019.04.csv', index_col=None, encoding = 'gb18030')\n",
    "data_1 = data_1[data_1['订单创建时间']>'2019-04-30 23:59:59']"
   ]
  },
  {
   "cell_type": "code",
   "execution_count": 3,
   "metadata": {},
   "outputs": [
    {
     "name": "stdout",
     "output_type": "stream",
     "text": [
      "The shape of data1 is (2618, 61), shape of data2 is (92256, 30), shape of data3 is (45625, 30),shape of data4 is (4226, 30)\n"
     ]
    }
   ],
   "source": [
    "print(f'The shape of data1 is {data_1.shape}, shape of data2 is {data_2.shape}, shape of data3 is {data_3.shape},shape of data4 is {data_4.shape}')"
   ]
  },
  {
   "cell_type": "code",
   "execution_count": 4,
   "metadata": {},
   "outputs": [],
   "source": [
    "data = pd.concat([data_1.loc[:,data_2.columns], data_2, data_3,data_4.loc[:,data_2.columns]], ignore_index=True)\n",
    "data = data.rename(columns={'订单编号':'OrderID', '买家会员名':'MemberName', '买家支付宝账号':'AlipayAccount',\n",
    "                            '买家应付货款':'OwnedAmount', '买家应付邮费':'DeliveryFee', '买家支付积分':'PointsPay',\n",
    "                            '总金额':'Total', '返点积分':'PointsEarned', '买家实际支付金额':'DirectPay' ,\n",
    "                            '买家实际支付积分':'PointsPay', '订单状态':'OrderStatus', '买家留言':'BuyerMessage',\n",
    "                            '收货人姓名':'ReceiverName', '收货地址 ':'ReceivingAdd', '运送方式':'DeliverMethod',\n",
    "                            '联系电话 ':'ContactPhone', '联系手机':'CellPhone', '订单创建时间':'OrderTime',\n",
    "                            '订单付款时间 ':'PayTime', '宝贝标题 ':'ItemName', '宝贝种类 ':'ItemCate',\n",
    "                            '物流单号 ':'DeliverNo', '物流公司':'DeliverCompany', '订单备注':'OrderNote', \n",
    "                            '宝贝总数量':'OrderItemNo', '店铺Id':'StoreID', '店铺名称':'StoreName', \n",
    "                            '确认收货时间':'DeliveredTime', '打款商家金额':'StoreReceived', '是否村淘订单':'CunTaoOrder'\n",
    "                            })"
   ]
  },
  {
   "cell_type": "code",
   "execution_count": 5,
   "metadata": {},
   "outputs": [],
   "source": [
    "data = data.drop(data.loc[(data['OrderTime']>'2019-08-01 00:00:00') |\\\n",
    "                          (data['OrderStatus'] == '卖家已发货，等待买家确认')].index,axis=0)"
   ]
  },
  {
   "cell_type": "code",
   "execution_count": 6,
   "metadata": {},
   "outputs": [
    {
     "data": {
      "text/plain": [
       "(144269, 30)"
      ]
     },
     "execution_count": 6,
     "metadata": {},
     "output_type": "execute_result"
    }
   ],
   "source": [
    "data.shape"
   ]
  },
  {
   "cell_type": "markdown",
   "metadata": {},
   "source": [
    "# Data Clean"
   ]
  },
  {
   "cell_type": "markdown",
   "metadata": {},
   "source": [
    "- There are total 13 columns with missing data:  \n",
    "        AlipayAccount, BuyerMessage, ReceiverName, DeliverMethod, ContactPhone,  \n",
    "        CellPhone, PaytTime, DeliverNo, DeliverCompany, OrderNote,  \n",
    "        StoreID, StoreName, DeliveredTime  "
   ]
  },
  {
   "cell_type": "code",
   "execution_count": 7,
   "metadata": {
    "scrolled": true
   },
   "outputs": [
    {
     "data": {
      "text/plain": [
       "OrderID                0\n",
       "MemberName             0\n",
       "AlipayAccount       1077\n",
       "OwnedAmount            0\n",
       "DeliveryFee            0\n",
       "PointsPay              0\n",
       "Total                  0\n",
       "PointsEarned           0\n",
       "DirectPay              0\n",
       "PointsPay              0\n",
       "OrderStatus            0\n",
       "BuyerMessage      128876\n",
       "ReceiverName           1\n",
       "ReceivingAdd           0\n",
       "DeliverMethod          1\n",
       "ContactPhone      117186\n",
       "CellPhone            962\n",
       "OrderTime              0\n",
       "PayTime            27827\n",
       "ItemName             398\n",
       "ItemCate               0\n",
       "DeliverNo          32979\n",
       "DeliverCompany     32979\n",
       "OrderNote         125565\n",
       "OrderItemNo            0\n",
       "StoreID           141178\n",
       "StoreName          54394\n",
       "DeliveredTime      33036\n",
       "StoreReceived          0\n",
       "CunTaoOrder            0\n",
       "dtype: int64"
      ]
     },
     "execution_count": 7,
     "metadata": {},
     "output_type": "execute_result"
    }
   ],
   "source": [
    "np.sum(data.isnull(),axis=0)"
   ]
  },
  {
   "cell_type": "code",
   "execution_count": 8,
   "metadata": {},
   "outputs": [],
   "source": [
    "# Create Province & City\n",
    "data.loc[156, 'ReceivingAdd'] = '海南省 文昌市 文城镇 海南省文昌市文昌中学'\n",
    "data.loc[86947, 'ReceivingAdd'] = '四川省 成都市 天府新区 华阳街道音乐广场贝康宠物医院(610213)'\n",
    "data['Province'] = list(map(lambda s: s.split(' ')[0], data['ReceivingAdd']))\n",
    "data['City'] = list(map(lambda s: s.split(' ')[1], data['ReceivingAdd']))"
   ]
  },
  {
   "cell_type": "markdown",
   "metadata": {},
   "source": [
    "- There is no record missing CellPhone, ContactPhone, AlipayAccount at the same time\n",
    " - CellPhone 962 missing values, fill with ContactPhone\n",
    " - AlipayAccount 1601 missing values, fill with CellPhone, ContactPhone"
   ]
  },
  {
   "cell_type": "code",
   "execution_count": 9,
   "metadata": {},
   "outputs": [],
   "source": [
    "data['CellPhone'] = data['CellPhone'].fillna(data['ContactPhone'])\n",
    "data['AlipayAccount'] = data['AlipayAccount'].fillna(data['CellPhone'])"
   ]
  },
  {
   "cell_type": "markdown",
   "metadata": {},
   "source": [
    "- Missing BuyerMessage and OrderNote means customers left no message\n",
    " - BuyerMessage 124885 missing values, fill with 'No'\n",
    " - OrderNote 22259 missing values, fill with 'No'"
   ]
  },
  {
   "cell_type": "code",
   "execution_count": 10,
   "metadata": {},
   "outputs": [],
   "source": [
    "data['BuyerMessage'] = data['BuyerMessage'].fillna('No')\n",
    "data['OrderNote'] = data['OrderNote'].fillna('No')\n",
    "data['OrderNote'] = data['OrderNote'].apply(lambda s: 'No' if s==\"'null\" else s)"
   ]
  },
  {
   "cell_type": "markdown",
   "metadata": {},
   "source": [
    "- There is one record with no information, delete it"
   ]
  },
  {
   "cell_type": "code",
   "execution_count": 11,
   "metadata": {},
   "outputs": [
    {
     "data": {
      "text/html": [
       "<div>\n",
       "<style scoped>\n",
       "    .dataframe tbody tr th:only-of-type {\n",
       "        vertical-align: middle;\n",
       "    }\n",
       "\n",
       "    .dataframe tbody tr th {\n",
       "        vertical-align: top;\n",
       "    }\n",
       "\n",
       "    .dataframe thead th {\n",
       "        text-align: right;\n",
       "    }\n",
       "</style>\n",
       "<table border=\"1\" class=\"dataframe\">\n",
       "  <thead>\n",
       "    <tr style=\"text-align: right;\">\n",
       "      <th></th>\n",
       "      <th>OrderID</th>\n",
       "      <th>MemberName</th>\n",
       "      <th>AlipayAccount</th>\n",
       "      <th>OwnedAmount</th>\n",
       "      <th>DeliveryFee</th>\n",
       "      <th>PointsPay</th>\n",
       "      <th>Total</th>\n",
       "      <th>PointsEarned</th>\n",
       "      <th>DirectPay</th>\n",
       "      <th>PointsPay</th>\n",
       "      <th>OrderStatus</th>\n",
       "      <th>BuyerMessage</th>\n",
       "      <th>ReceiverName</th>\n",
       "      <th>ReceivingAdd</th>\n",
       "      <th>DeliverMethod</th>\n",
       "      <th>ContactPhone</th>\n",
       "      <th>CellPhone</th>\n",
       "      <th>OrderTime</th>\n",
       "      <th>PayTime</th>\n",
       "      <th>ItemName</th>\n",
       "      <th>ItemCate</th>\n",
       "      <th>DeliverNo</th>\n",
       "      <th>DeliverCompany</th>\n",
       "      <th>OrderNote</th>\n",
       "      <th>OrderItemNo</th>\n",
       "      <th>StoreID</th>\n",
       "      <th>StoreName</th>\n",
       "      <th>DeliveredTime</th>\n",
       "      <th>StoreReceived</th>\n",
       "      <th>CunTaoOrder</th>\n",
       "      <th>Province</th>\n",
       "      <th>City</th>\n",
       "    </tr>\n",
       "  </thead>\n",
       "  <tbody>\n",
       "    <tr>\n",
       "      <th>73583</th>\n",
       "      <td>1053302034007093</td>\n",
       "      <td>clearcatnn</td>\n",
       "      <td>clearcatnn@hotmail.com</td>\n",
       "      <td>165.0</td>\n",
       "      <td>0.0</td>\n",
       "      <td>0.0</td>\n",
       "      <td>165.0</td>\n",
       "      <td>82.0</td>\n",
       "      <td>165.0</td>\n",
       "      <td>0.0</td>\n",
       "      <td>交易成功</td>\n",
       "      <td>No</td>\n",
       "      <td>NaN</td>\n",
       "      <td></td>\n",
       "      <td>NaN</td>\n",
       "      <td>NaN</td>\n",
       "      <td>NaN</td>\n",
       "      <td>2015-05-17 16:02:14</td>\n",
       "      <td>2015-05-17 16:02:34</td>\n",
       "      <td>科博磁力棒磁铁儿童益智玩具男女孩智力拼装玩具百变早教磁力积木</td>\n",
       "      <td>1.0</td>\n",
       "      <td>NaN</td>\n",
       "      <td>NaN</td>\n",
       "      <td>No</td>\n",
       "      <td>1.0</td>\n",
       "      <td>NaN</td>\n",
       "      <td>母婴惠童专营店</td>\n",
       "      <td>2015-05-22 18:42:27</td>\n",
       "      <td>165.00元</td>\n",
       "      <td>否</td>\n",
       "      <td></td>\n",
       "      <td></td>\n",
       "    </tr>\n",
       "    <tr>\n",
       "      <th>156</th>\n",
       "      <td>NaN</td>\n",
       "      <td>NaN</td>\n",
       "      <td>NaN</td>\n",
       "      <td>NaN</td>\n",
       "      <td>NaN</td>\n",
       "      <td>NaN</td>\n",
       "      <td>NaN</td>\n",
       "      <td>NaN</td>\n",
       "      <td>NaN</td>\n",
       "      <td>NaN</td>\n",
       "      <td>NaN</td>\n",
       "      <td>No</td>\n",
       "      <td>NaN</td>\n",
       "      <td>海南省 文昌市 文城镇 海南省文昌市文昌中学</td>\n",
       "      <td>NaN</td>\n",
       "      <td>NaN</td>\n",
       "      <td>NaN</td>\n",
       "      <td>NaN</td>\n",
       "      <td>NaN</td>\n",
       "      <td>NaN</td>\n",
       "      <td>NaN</td>\n",
       "      <td>NaN</td>\n",
       "      <td>NaN</td>\n",
       "      <td>No</td>\n",
       "      <td>NaN</td>\n",
       "      <td>NaN</td>\n",
       "      <td>NaN</td>\n",
       "      <td>NaN</td>\n",
       "      <td>NaN</td>\n",
       "      <td>NaN</td>\n",
       "      <td>海南省</td>\n",
       "      <td>文昌市</td>\n",
       "    </tr>\n",
       "  </tbody>\n",
       "</table>\n",
       "</div>"
      ],
      "text/plain": [
       "                OrderID  MemberName           AlipayAccount  OwnedAmount  \\\n",
       "73583  1053302034007093  clearcatnn  clearcatnn@hotmail.com        165.0   \n",
       "156                 NaN         NaN                     NaN          NaN   \n",
       "\n",
       "       DeliveryFee  PointsPay  Total  PointsEarned  DirectPay  PointsPay  \\\n",
       "73583          0.0        0.0  165.0          82.0      165.0        0.0   \n",
       "156            NaN        NaN    NaN           NaN        NaN        NaN   \n",
       "\n",
       "      OrderStatus BuyerMessage ReceiverName            ReceivingAdd  \\\n",
       "73583        交易成功           No          NaN                           \n",
       "156           NaN           No          NaN  海南省 文昌市 文城镇 海南省文昌市文昌中学   \n",
       "\n",
       "      DeliverMethod ContactPhone CellPhone            OrderTime  \\\n",
       "73583           NaN          NaN       NaN  2015-05-17 16:02:14   \n",
       "156             NaN          NaN       NaN                  NaN   \n",
       "\n",
       "                   PayTime                        ItemName  ItemCate  \\\n",
       "73583  2015-05-17 16:02:34  科博磁力棒磁铁儿童益智玩具男女孩智力拼装玩具百变早教磁力积木       1.0   \n",
       "156                    NaN                             NaN       NaN   \n",
       "\n",
       "      DeliverNo DeliverCompany OrderNote  OrderItemNo  StoreID StoreName  \\\n",
       "73583       NaN            NaN        No          1.0      NaN   母婴惠童专营店   \n",
       "156         NaN            NaN        No          NaN      NaN       NaN   \n",
       "\n",
       "             DeliveredTime StoreReceived CunTaoOrder Province City  \n",
       "73583  2015-05-22 18:42:27       165.00元           否                \n",
       "156                    NaN           NaN         NaN      海南省  文昌市  "
      ]
     },
     "execution_count": 11,
     "metadata": {},
     "output_type": "execute_result"
    }
   ],
   "source": [
    "data[data['ReceiverName'].isna()] "
   ]
  },
  {
   "cell_type": "code",
   "execution_count": 12,
   "metadata": {},
   "outputs": [],
   "source": [
    "data = data[~data['ReceiverName'].isna()]"
   ]
  },
  {
   "cell_type": "markdown",
   "metadata": {},
   "source": [
    "- Records with missing PaytTime and DeliveredTime are all from closed orders, which means the customers closed the orders before paying.\n",
    " - PaytTime 26640 missing values(all included in closed orders), fill with 0\n",
    " - DeliveredTime 31516 missing values(all included in closed orders), fill with 0"
   ]
  },
  {
   "cell_type": "code",
   "execution_count": 13,
   "metadata": {},
   "outputs": [
    {
     "name": "stdout",
     "output_type": "stream",
     "text": [
      "The number of success order without PaytTime is 0, the number of success order without DeliveredTime is 0\n"
     ]
    }
   ],
   "source": [
    "t1 = data[(data['PayTime'].isnull()) & (data['OrderStatus'] == '交易成功')].shape[0]\n",
    "t2 = data[(data['DeliveredTime'].isnull()) & (data['OrderStatus'] == '交易成功')].shape[0]\n",
    "print(f'The number of success order without PaytTime is {t1}, the number of success order without DeliveredTime is {t2}')"
   ]
  },
  {
   "cell_type": "code",
   "execution_count": 14,
   "metadata": {},
   "outputs": [],
   "source": [
    "data['PayTime'] = data['PayTime'].fillna(0)\n",
    "data['DeliveredTime'] = data['DeliveredTime'].fillna(0)"
   ]
  },
  {
   "cell_type": "markdown",
   "metadata": {},
   "source": [
    "- ContactPhone, StoreID, StoreName, DeliverNo are useless columns, delete"
   ]
  },
  {
   "cell_type": "code",
   "execution_count": 15,
   "metadata": {},
   "outputs": [],
   "source": [
    "data = data.drop(columns = (['ContactPhone', 'StoreID','StoreName', 'DeliverNo']), axis = 0)\n",
    "data = data.drop(data.loc[(data['OrderTime']>'2019-08-01 00:00:00') | (data['OrderStatus'] == '卖家已发货，等待买家确认')].index,axis=0)"
   ]
  },
  {
   "cell_type": "markdown",
   "metadata": {},
   "source": [
    "- Check the ItemName and OrderNote, delete records which just pay for delivery fee.\n",
    "- Impute DeliverCompany with mode in every province\n",
    "- After imputation, the left 29693 missing in DeliverCompany are from closed orders, fill with No"
   ]
  },
  {
   "cell_type": "code",
   "execution_count": 16,
   "metadata": {},
   "outputs": [],
   "source": [
    "data = data[~(data['ItemName'] == '邮费运费链接补差价专拍')]"
   ]
  },
  {
   "cell_type": "code",
   "execution_count": 17,
   "metadata": {},
   "outputs": [],
   "source": [
    "def delete_fake_orders(df, key_words):\n",
    "    for word in key_words:\n",
    "        tmp = df[(df['DeliverCompany'].isnull()) & (df['OrderStatus'] == '交易成功')]\n",
    "        df = df.drop(tmp[tmp['OrderNote'].apply(lambda x : re.search(word, x) != None)].index, axis = 0)\n",
    "    return df\n",
    "\n",
    "def impute_deliver_company(df):\n",
    "    impute_index = df[(df['DeliverCompany'].isnull())&(df['OrderStatus'] == '交易成功')].index\n",
    "    for index in impute_index:\n",
    "        df.loc[index, 'DeliverCompany'] = df[(~df['DeliverCompany'].isnull())&(df['Province'] == df.loc[index].Province)].DeliverCompany.mode()[0]\n",
    "    return df"
   ]
  },
  {
   "cell_type": "code",
   "execution_count": 18,
   "metadata": {},
   "outputs": [],
   "source": [
    "data = delete_fake_orders(data, ['邮','费','差','价','运','费','补','重复','不要','不发','关闭'])\n",
    "data = impute_deliver_company(data)\n",
    "data['DeliverCompany'] = data['DeliverCompany'].fillna('No')\n",
    "data['ItemName'] = data['ItemName'].fillna('No')"
   ]
  },
  {
   "cell_type": "code",
   "execution_count": 19,
   "metadata": {},
   "outputs": [
    {
     "data": {
      "text/plain": [
       "False"
      ]
     },
     "execution_count": 19,
     "metadata": {},
     "output_type": "execute_result"
    }
   ],
   "source": [
    "data.isnull().values.any()"
   ]
  },
  {
   "cell_type": "markdown",
   "metadata": {},
   "source": [
    "**Create time features**"
   ]
  },
  {
   "cell_type": "code",
   "execution_count": 20,
   "metadata": {},
   "outputs": [],
   "source": [
    "data['OrderTime'] = pd.to_datetime(data['OrderTime'])\n",
    "data['PayTime'] = pd.to_datetime(data['PayTime'])\n",
    "data['DeliveredTime'] = pd.to_datetime(data['DeliveredTime'])"
   ]
  },
  {
   "cell_type": "code",
   "execution_count": 21,
   "metadata": {},
   "outputs": [],
   "source": [
    "# create new col: time window between PaytTime & OrderTime\n",
    "data['OrderToPay(s)'] = (data['PayTime'] - data['OrderTime']).astype('timedelta64[s]')\n",
    "# create new col: time \n",
    "data['PayToReceive(h)'] = (data['DeliveredTime'] - data['PayTime']).astype('timedelta64[h]')"
   ]
  },
  {
   "cell_type": "code",
   "execution_count": 22,
   "metadata": {},
   "outputs": [
    {
     "data": {
      "text/html": [
       "<div>\n",
       "<style scoped>\n",
       "    .dataframe tbody tr th:only-of-type {\n",
       "        vertical-align: middle;\n",
       "    }\n",
       "\n",
       "    .dataframe tbody tr th {\n",
       "        vertical-align: top;\n",
       "    }\n",
       "\n",
       "    .dataframe thead th {\n",
       "        text-align: right;\n",
       "    }\n",
       "</style>\n",
       "<table border=\"1\" class=\"dataframe\">\n",
       "  <thead>\n",
       "    <tr style=\"text-align: right;\">\n",
       "      <th></th>\n",
       "      <th>OrderID</th>\n",
       "      <th>MemberName</th>\n",
       "      <th>AlipayAccount</th>\n",
       "      <th>OwnedAmount</th>\n",
       "      <th>DeliveryFee</th>\n",
       "      <th>PointsPay</th>\n",
       "      <th>Total</th>\n",
       "      <th>PointsEarned</th>\n",
       "      <th>DirectPay</th>\n",
       "      <th>PointsPay</th>\n",
       "      <th>OrderStatus</th>\n",
       "      <th>BuyerMessage</th>\n",
       "      <th>ReceiverName</th>\n",
       "      <th>ReceivingAdd</th>\n",
       "      <th>DeliverMethod</th>\n",
       "      <th>CellPhone</th>\n",
       "      <th>OrderTime</th>\n",
       "      <th>PayTime</th>\n",
       "      <th>ItemName</th>\n",
       "      <th>ItemCate</th>\n",
       "      <th>DeliverCompany</th>\n",
       "      <th>OrderNote</th>\n",
       "      <th>OrderItemNo</th>\n",
       "      <th>DeliveredTime</th>\n",
       "      <th>StoreReceived</th>\n",
       "      <th>CunTaoOrder</th>\n",
       "      <th>Province</th>\n",
       "      <th>City</th>\n",
       "      <th>OrderToPay(s)</th>\n",
       "      <th>PayToReceive(h)</th>\n",
       "    </tr>\n",
       "  </thead>\n",
       "  <tbody>\n",
       "    <tr>\n",
       "      <th>454</th>\n",
       "      <td>=\"561099105503109255\"</td>\n",
       "      <td>雷霆3战机</td>\n",
       "      <td>342239175@qq.com</td>\n",
       "      <td>154.84</td>\n",
       "      <td>0.0</td>\n",
       "      <td>0.0</td>\n",
       "      <td>154.84</td>\n",
       "      <td>77.0</td>\n",
       "      <td>154.84</td>\n",
       "      <td>0.0</td>\n",
       "      <td>交易成功</td>\n",
       "      <td>No</td>\n",
       "      <td>陈丹</td>\n",
       "      <td>福建省 福州市 仓山区 东升街道东园路10号金辉莱茵城14号楼（东辉社区）(000000)</td>\n",
       "      <td>快递</td>\n",
       "      <td>'13405907147</td>\n",
       "      <td>2019-07-31 23:28:46</td>\n",
       "      <td>2019-07-31 23:28:58</td>\n",
       "      <td>迪宝乐电子积木儿童益智拼装电路玩具男女孩物理教科书5-6-12岁</td>\n",
       "      <td>1.0</td>\n",
       "      <td>韵达快递</td>\n",
       "      <td>No</td>\n",
       "      <td>1.0</td>\n",
       "      <td>2019-08-09 22:38:05</td>\n",
       "      <td>154.84元</td>\n",
       "      <td>否</td>\n",
       "      <td>福建省</td>\n",
       "      <td>福州市</td>\n",
       "      <td>12.0</td>\n",
       "      <td>215.0</td>\n",
       "    </tr>\n",
       "    <tr>\n",
       "      <th>455</th>\n",
       "      <td>=\"561103267468252376\"</td>\n",
       "      <td>konglingsheng888</td>\n",
       "      <td>kls666@sina.com</td>\n",
       "      <td>109.00</td>\n",
       "      <td>0.0</td>\n",
       "      <td>0.0</td>\n",
       "      <td>109.00</td>\n",
       "      <td>54.0</td>\n",
       "      <td>109.00</td>\n",
       "      <td>0.0</td>\n",
       "      <td>交易成功</td>\n",
       "      <td>No</td>\n",
       "      <td>孔令晟</td>\n",
       "      <td>安徽省 铜陵市 铜官山区 铜官山区虚镇秀水山庄4栋401(244000)</td>\n",
       "      <td>快递</td>\n",
       "      <td>'13856271285</td>\n",
       "      <td>2019-07-31 22:58:03</td>\n",
       "      <td>2019-07-31 22:58:30</td>\n",
       "      <td>迪士尼书包小学生男1-3-4年级汽车麦昆卡通儿童护脊双肩背包</td>\n",
       "      <td>1.0</td>\n",
       "      <td>圆通速递</td>\n",
       "      <td>No</td>\n",
       "      <td>1.0</td>\n",
       "      <td>2019-08-03 19:47:38</td>\n",
       "      <td>109.00元</td>\n",
       "      <td>否</td>\n",
       "      <td>安徽省</td>\n",
       "      <td>铜陵市</td>\n",
       "      <td>27.0</td>\n",
       "      <td>68.0</td>\n",
       "    </tr>\n",
       "    <tr>\n",
       "      <th>456</th>\n",
       "      <td>=\"561084450761550335\"</td>\n",
       "      <td>更好的明天1992</td>\n",
       "      <td>18067226706</td>\n",
       "      <td>103.00</td>\n",
       "      <td>0.0</td>\n",
       "      <td>0.0</td>\n",
       "      <td>103.00</td>\n",
       "      <td>51.0</td>\n",
       "      <td>103.00</td>\n",
       "      <td>0.0</td>\n",
       "      <td>交易成功</td>\n",
       "      <td>No</td>\n",
       "      <td>吴文洁</td>\n",
       "      <td>河南省 商丘市 睢县 城关镇西门里赵家胡同(000000)</td>\n",
       "      <td>快递</td>\n",
       "      <td>'18067222105</td>\n",
       "      <td>2019-07-31 22:55:06</td>\n",
       "      <td>2019-07-31 22:55:41</td>\n",
       "      <td>迪宝乐电子积木儿童益智拼装电路玩具男女孩物理教科书5-6-12岁</td>\n",
       "      <td>1.0</td>\n",
       "      <td>韵达快递</td>\n",
       "      <td>No</td>\n",
       "      <td>1.0</td>\n",
       "      <td>2019-08-11 08:32:16</td>\n",
       "      <td>103.00元</td>\n",
       "      <td>否</td>\n",
       "      <td>河南省</td>\n",
       "      <td>商丘市</td>\n",
       "      <td>35.0</td>\n",
       "      <td>249.0</td>\n",
       "    </tr>\n",
       "  </tbody>\n",
       "</table>\n",
       "</div>"
      ],
      "text/plain": [
       "                   OrderID        MemberName     AlipayAccount  OwnedAmount  \\\n",
       "454  =\"561099105503109255\"             雷霆3战机  342239175@qq.com       154.84   \n",
       "455  =\"561103267468252376\"  konglingsheng888   kls666@sina.com       109.00   \n",
       "456  =\"561084450761550335\"         更好的明天1992       18067226706       103.00   \n",
       "\n",
       "     DeliveryFee  PointsPay   Total  PointsEarned  DirectPay  PointsPay  \\\n",
       "454          0.0        0.0  154.84          77.0     154.84        0.0   \n",
       "455          0.0        0.0  109.00          54.0     109.00        0.0   \n",
       "456          0.0        0.0  103.00          51.0     103.00        0.0   \n",
       "\n",
       "    OrderStatus BuyerMessage ReceiverName  \\\n",
       "454        交易成功           No           陈丹   \n",
       "455        交易成功           No          孔令晟   \n",
       "456        交易成功           No          吴文洁   \n",
       "\n",
       "                                      ReceivingAdd DeliverMethod  \\\n",
       "454  福建省 福州市 仓山区 东升街道东园路10号金辉莱茵城14号楼（东辉社区）(000000)            快递   \n",
       "455           安徽省 铜陵市 铜官山区 铜官山区虚镇秀水山庄4栋401(244000)            快递   \n",
       "456                  河南省 商丘市 睢县 城关镇西门里赵家胡同(000000)            快递   \n",
       "\n",
       "        CellPhone           OrderTime             PayTime  \\\n",
       "454  '13405907147 2019-07-31 23:28:46 2019-07-31 23:28:58   \n",
       "455  '13856271285 2019-07-31 22:58:03 2019-07-31 22:58:30   \n",
       "456  '18067222105 2019-07-31 22:55:06 2019-07-31 22:55:41   \n",
       "\n",
       "                             ItemName  ItemCate DeliverCompany OrderNote  \\\n",
       "454  迪宝乐电子积木儿童益智拼装电路玩具男女孩物理教科书5-6-12岁       1.0           韵达快递        No   \n",
       "455    迪士尼书包小学生男1-3-4年级汽车麦昆卡通儿童护脊双肩背包       1.0           圆通速递        No   \n",
       "456  迪宝乐电子积木儿童益智拼装电路玩具男女孩物理教科书5-6-12岁       1.0           韵达快递        No   \n",
       "\n",
       "     OrderItemNo       DeliveredTime StoreReceived CunTaoOrder Province City  \\\n",
       "454          1.0 2019-08-09 22:38:05       154.84元           否      福建省  福州市   \n",
       "455          1.0 2019-08-03 19:47:38       109.00元           否      安徽省  铜陵市   \n",
       "456          1.0 2019-08-11 08:32:16       103.00元           否      河南省  商丘市   \n",
       "\n",
       "     OrderToPay(s)  PayToReceive(h)  \n",
       "454           12.0            215.0  \n",
       "455           27.0             68.0  \n",
       "456           35.0            249.0  "
      ]
     },
     "execution_count": 22,
     "metadata": {},
     "output_type": "execute_result"
    }
   ],
   "source": [
    "data.head(3)"
   ]
  },
  {
   "cell_type": "markdown",
   "metadata": {},
   "source": [
    "Notes from 2019.csv: \n",
    "1. 订单编号 is unique   ???\n",
    "2. '总金额' = '买家应付货款' + '买家应付邮费', (32 records with 买家应付邮费)\n",
    "3. '买家实际支付金额' =  '总金额' -  '退款金额'   \n",
    "4. '返点积分' = 0.5 * '买家实际支付金额' + '买家支付积分'\n",
    "5. '打款商家金额' = '买家实际支付金额'"
   ]
  },
  {
   "cell_type": "code",
   "execution_count": 23,
   "metadata": {},
   "outputs": [
    {
     "data": {
      "text/html": [
       "<div>\n",
       "<style scoped>\n",
       "    .dataframe tbody tr th:only-of-type {\n",
       "        vertical-align: middle;\n",
       "    }\n",
       "\n",
       "    .dataframe tbody tr th {\n",
       "        vertical-align: top;\n",
       "    }\n",
       "\n",
       "    .dataframe thead th {\n",
       "        text-align: right;\n",
       "    }\n",
       "</style>\n",
       "<table border=\"1\" class=\"dataframe\">\n",
       "  <thead>\n",
       "    <tr style=\"text-align: right;\">\n",
       "      <th></th>\n",
       "      <th>OrderID</th>\n",
       "      <th>MemberName</th>\n",
       "      <th>AlipayAccount</th>\n",
       "      <th>OwnedAmount</th>\n",
       "      <th>DeliveryFee</th>\n",
       "      <th>PointsPay</th>\n",
       "      <th>Total</th>\n",
       "      <th>PointsEarned</th>\n",
       "      <th>DirectPay</th>\n",
       "      <th>PointsPay</th>\n",
       "      <th>OrderStatus</th>\n",
       "      <th>BuyerMessage</th>\n",
       "      <th>ReceiverName</th>\n",
       "      <th>ReceivingAdd</th>\n",
       "      <th>DeliverMethod</th>\n",
       "      <th>CellPhone</th>\n",
       "      <th>OrderTime</th>\n",
       "      <th>PayTime</th>\n",
       "      <th>ItemName</th>\n",
       "      <th>ItemCate</th>\n",
       "      <th>DeliverCompany</th>\n",
       "      <th>OrderNote</th>\n",
       "      <th>OrderItemNo</th>\n",
       "      <th>DeliveredTime</th>\n",
       "      <th>StoreReceived</th>\n",
       "      <th>CunTaoOrder</th>\n",
       "      <th>Province</th>\n",
       "      <th>City</th>\n",
       "      <th>OrderToPay(s)</th>\n",
       "      <th>PayToReceive(h)</th>\n",
       "    </tr>\n",
       "  </thead>\n",
       "  <tbody>\n",
       "    <tr>\n",
       "      <th>94873</th>\n",
       "      <td>403137289407813</td>\n",
       "      <td>天涯海角516087</td>\n",
       "      <td>13584860290</td>\n",
       "      <td>78.0</td>\n",
       "      <td>0.0</td>\n",
       "      <td>0.0</td>\n",
       "      <td>78.0</td>\n",
       "      <td>39.0</td>\n",
       "      <td>78.0</td>\n",
       "      <td>0.0</td>\n",
       "      <td>交易成功</td>\n",
       "      <td>No</td>\n",
       "      <td>胡国艳</td>\n",
       "      <td>江苏省 苏州市 园区 唯亭镇青苑四区14栋2单元(215121)</td>\n",
       "      <td>快递</td>\n",
       "      <td>'13782986509</td>\n",
       "      <td>2013-08-19 22:29:27</td>\n",
       "      <td>2013-08-19 22:31:20</td>\n",
       "      <td>和乐虎早教机故事机幼儿和乐熊和乐族儿童益智玩具会说话的巧虎</td>\n",
       "      <td>1.0</td>\n",
       "      <td>申通E物流</td>\n",
       "      <td>No</td>\n",
       "      <td>1.0</td>\n",
       "      <td>2013-08-21 19:00:32</td>\n",
       "      <td>78.00元</td>\n",
       "      <td>否</td>\n",
       "      <td>江苏省</td>\n",
       "      <td>苏州市</td>\n",
       "      <td>113.0</td>\n",
       "      <td>44.0</td>\n",
       "    </tr>\n",
       "    <tr>\n",
       "      <th>94874</th>\n",
       "      <td>403137289407813</td>\n",
       "      <td>天涯海角516087</td>\n",
       "      <td>13584860290</td>\n",
       "      <td>78.0</td>\n",
       "      <td>0.0</td>\n",
       "      <td>0.0</td>\n",
       "      <td>78.0</td>\n",
       "      <td>39.0</td>\n",
       "      <td>78.0</td>\n",
       "      <td>0.0</td>\n",
       "      <td>交易成功</td>\n",
       "      <td>No</td>\n",
       "      <td>胡国艳</td>\n",
       "      <td>江苏省 苏州市 园区 唯亭镇青苑四区14栋2单元(215121)</td>\n",
       "      <td>快递</td>\n",
       "      <td>'13782986509</td>\n",
       "      <td>2013-08-19 22:29:27</td>\n",
       "      <td>2013-08-19 22:31:20</td>\n",
       "      <td>和乐虎早教机故事机幼儿和乐熊和乐族儿童益智玩具会说话的巧虎</td>\n",
       "      <td>1.0</td>\n",
       "      <td>申通E物流</td>\n",
       "      <td>No</td>\n",
       "      <td>1.0</td>\n",
       "      <td>2013-08-21 19:00:32</td>\n",
       "      <td>78.00元</td>\n",
       "      <td>否</td>\n",
       "      <td>江苏省</td>\n",
       "      <td>苏州市</td>\n",
       "      <td>113.0</td>\n",
       "      <td>44.0</td>\n",
       "    </tr>\n",
       "  </tbody>\n",
       "</table>\n",
       "</div>"
      ],
      "text/plain": [
       "               OrderID  MemberName AlipayAccount  OwnedAmount  DeliveryFee  \\\n",
       "94873  403137289407813  天涯海角516087   13584860290         78.0          0.0   \n",
       "94874  403137289407813  天涯海角516087   13584860290         78.0          0.0   \n",
       "\n",
       "       PointsPay  Total  PointsEarned  DirectPay  PointsPay OrderStatus  \\\n",
       "94873        0.0   78.0          39.0       78.0        0.0        交易成功   \n",
       "94874        0.0   78.0          39.0       78.0        0.0        交易成功   \n",
       "\n",
       "      BuyerMessage ReceiverName                      ReceivingAdd  \\\n",
       "94873           No          胡国艳  江苏省 苏州市 园区 唯亭镇青苑四区14栋2单元(215121)   \n",
       "94874           No          胡国艳  江苏省 苏州市 园区 唯亭镇青苑四区14栋2单元(215121)   \n",
       "\n",
       "      DeliverMethod     CellPhone           OrderTime             PayTime  \\\n",
       "94873            快递  '13782986509 2013-08-19 22:29:27 2013-08-19 22:31:20   \n",
       "94874            快递  '13782986509 2013-08-19 22:29:27 2013-08-19 22:31:20   \n",
       "\n",
       "                            ItemName  ItemCate DeliverCompany OrderNote  \\\n",
       "94873  和乐虎早教机故事机幼儿和乐熊和乐族儿童益智玩具会说话的巧虎       1.0          申通E物流        No   \n",
       "94874  和乐虎早教机故事机幼儿和乐熊和乐族儿童益智玩具会说话的巧虎       1.0          申通E物流        No   \n",
       "\n",
       "       OrderItemNo       DeliveredTime StoreReceived CunTaoOrder Province  \\\n",
       "94873          1.0 2013-08-21 19:00:32        78.00元           否      江苏省   \n",
       "94874          1.0 2013-08-21 19:00:32        78.00元           否      江苏省   \n",
       "\n",
       "      City  OrderToPay(s)  PayToReceive(h)  \n",
       "94873  苏州市          113.0             44.0  \n",
       "94874  苏州市          113.0             44.0  "
      ]
     },
     "execution_count": 23,
     "metadata": {},
     "output_type": "execute_result"
    }
   ],
   "source": [
    "data[data['OrderID'] == 403137289407813]"
   ]
  },
  {
   "cell_type": "code",
   "execution_count": 24,
   "metadata": {},
   "outputs": [],
   "source": [
    "data = data.drop_duplicates()"
   ]
  },
  {
   "cell_type": "code",
   "execution_count": 26,
   "metadata": {},
   "outputs": [
    {
     "data": {
      "text/plain": [
       "(143939, 30)"
      ]
     },
     "execution_count": 26,
     "metadata": {},
     "output_type": "execute_result"
    }
   ],
   "source": [
    "data.shape"
   ]
  },
  {
   "cell_type": "code",
   "execution_count": 29,
   "metadata": {},
   "outputs": [],
   "source": [
    "data.to_csv('./data/after_clean.csv', index = False, encoding = 'gb18030')"
   ]
  },
  {
   "cell_type": "markdown",
   "metadata": {},
   "source": [
    "# Analysis -Maomao"
   ]
  },
  {
   "cell_type": "code",
   "execution_count": null,
   "metadata": {},
   "outputs": [],
   "source": [
    "excellent_payment_amount = [[2017,8,300766],[2017,9,268919],[2017,10,231100],[2017,11,381938],[2017,12,323107],\n",
    "                  [2018,1,314732],[2018,2,182211],[2018,3,296708],[2018,4,259451],[2018,5,364607],\n",
    "                  [2018,6,355321],[2018,7,357994],[2018,8,409112],[2018,9,361518],[2018,10,344064],[2018,11,498062],\n",
    "                  [2018,12,460035],[2019,1,395456],[2019,2,299989],[2019,3,365981],[2019,4,335556],\n",
    "                  [2019,5,418450],[2019,6,316545]]\n",
    "\n",
    "average_payment_amount = [[2017,8,213675],[2017,9,180691],[2017,10,155361],[2017,11,256130],[2017,12,227572],\n",
    "                   [2018,1,209429],[2018,2,120317],[2018,3,197909],[2018,4,186440],[2018,5,244298],\n",
    "                   [2018,6,232010],[2018,7,250811],[2018,8,281516],[2018,9,256647],[2018,10,234571],\n",
    "                   [2018,11,344893],[2018,12,320763],[2019,1,268417],[2019,2,202224],[2019,3,251131],\n",
    "                   [2019,4,233499],[2019,5,272901],[2019,6,210169]]\n",
    "\n",
    "excellent_view_count = [[2017,8,173931],[2017,9,138438],[2017,10,134606],[2017,11,193768],[2017,12,154619],\n",
    "                  [2018,1,157413],[2018,2,120345],[2018,3,148101],[2018,4,125594],[2018,5,141412],\n",
    "                  [2018,6,142020],[2018,7,164316],[2018,8,187370],[2018,9,154759],[2018,10,175340],\n",
    "                  [2018,11,212596],[2018,12,192076],[2019,1,183337],[2019,2,179527],\n",
    "                  [2019,3,178862],[2019,4,177142],[2019,5,182135],[2019,6,157187]]\n",
    "\n",
    "average_view_count = [[2017,8,100230],[2017,9,74885],[2017,10,72665],[2017,11,98999],[2017,12,76362],\n",
    "               [2018,1,80478],[2018,2,57998],[2018,3,74096],[2018,4,67236],[2018,5,73419],\n",
    "                [2018,6,75429],[2018,7,87338],[2018,8,99806],[2018,9,82116],[2018,10,90074],\n",
    "                [2018,11,112136],[2018,12,95180],[2019,1,86973],[2019,2,86342],\n",
    "                [2019,3,91134],[2019,4,79997],[2019,5,89195],[2019,6,74565]]\n",
    "\n",
    "excellent_conversion_rate = [[2017,8,0.054],[2017,9,0.0554],[2017,10,0.0524],[2017,11,0.056],[2017,12,0.0579],\n",
    "                           [2018,1,0.0575],[2018,2,0.047],[2018,3,0.0619],[2018,4,0.062],[2018,5,0.0682],\n",
    "                           [2018,6,0.0673],[2018,7,0.0653],[2018,8,0.0655],[2018,9,0.069],[2018,10,0.0675],\n",
    "                          [2018,11,0.0742],[2018,12,0.0722],[2019,1,0.0668],[2019,2,0.0624],[2019,3,0.0688],\n",
    "                          [2019,4,0.0705],[2019,5,0.071],[2019,6,0.0697]],\n",
    "average_conversion_rate = [[2017,8,0.0265],[2017,9,0.0295],[2017,10,0.0271],[2017,11,0.031],[2017,12,0.0312],\n",
    "                         [2018,1,0.0316],[2018,2,0.0243],[2018,3,0.0339],[2018,4,0.0336],[2018,5,0.039],\n",
    "                         [2018,6,0.036],[2018,7,0.034],[2018,8,0.0344],[2018,9,0.0366],[2018,10,0.034],\n",
    "                         [2018,11,0.0401],[2018,12,0.0396],[2019,1,0.0362],[2019,2,0.0309],[2019,3,0.0364],\n",
    "                          [2019,4,0.0358],[2019,5,0.0382],[2019,6,0.0372]]\n",
    "\n",
    "excellent_advertising_fee = [[2017,8,35899],[2017,9,30498],[2017,10,31910],[2017,11,39351],[2017,12,34908],\n",
    "                            [2018,1,33828],[2018,2,19234],[2018,3,31986],[2018,4,33536],[2018,5,43895],\n",
    "                            [2018,6,43778],[2018,7,43512],[2018,8,43364],[2018,9,39295],[2018,10,42594],\n",
    "                            [2018,11,54724],[2018,12,46435],[2019,1,42145],[2019,2,30593],[2019,3,40873],\n",
    "                            [2019,4,40557],[2019,5,42032],[2019,6,34852]]\n",
    "\n",
    "average_advertising_fee = [[2017,8,14153],[2017,9,13095],[2017,10,12926],[2017,11,15514],[2017,12,14385],\n",
    "                            [2018,1,14421],[2018,2,7281],[2018,3,13557],[2018,4,14237],[2018,5,17891],\n",
    "                            [2018,6,18090],[2018,7,18464],[2018,8,18132],[2018,9,16464],[2018,10,17299],\n",
    "                            [2018,11,19206],[2018,12,17596],[2019,1,16065],[2019,2,11749],[2019,3,16344],\n",
    "                            [2019,4,15594],[2019,5,16994],[2019,6,14016]]\n",
    "\n",
    "excellent_payment_amount = pd.DataFrame(excellent_payment_amount)\n",
    "excellent_payment_amount.columns = [\"year\",\"month\",\"value\"]\n",
    "\n",
    "average_payment_amount = pd.DataFrame(average_payment_amount)\n",
    "average_payment_amount.columns = [\"year\",\"month\",\"value\"]\n",
    "\n",
    "excellent_view_count = pd.DataFrame(excellent_view_count)\n",
    "excellent_view_count.columns = [\"year\",\"month\",\"value\"]\n",
    "\n",
    "average_view_count = pd.DataFrame(average_view_count)\n",
    "average_view_count.columns = [\"year\",\"month\",\"value\"]\n",
    "\n",
    "excellent_conversion_rate = pd.DataFrame(excellent_conversion_rate)\n",
    "excellent_conversion_rate.columns = [\"year\",\"month\",\"value\"]\n",
    "\n",
    "average_conversion_rate = pd.DataFrame(average_conversion_rate)\n",
    "average_conversion_rate.columns = [\"year\",\"month\",\"value\"]\n",
    "\n",
    "excellent_advertising_fee = pd.DataFrame(excellent_advertising_fee)\n",
    "excellent_advertising_fee.columns = [\"year\",\"month\",\"value\"]\n",
    "\n",
    "average_advertising_fee = pd.DataFrame(average_advertising_fee)\n",
    "average_advertising_fee.columns = [\"year\",\"month\",\"value\"]"
   ]
  },
  {
   "cell_type": "code",
   "execution_count": null,
   "metadata": {},
   "outputs": [],
   "source": [
    "data['year'] = data['PayTime'].apply(lambda x: x.year if x.year >2000 else '')\n",
    "data['month'] = data['PayTime'].apply(lambda x: x.month if x.year >2000 else '')"
   ]
  },
  {
   "cell_type": "code",
   "execution_count": null,
   "metadata": {
    "scrolled": true
   },
   "outputs": [],
   "source": [
    "def f(df):\n",
    "    df['year'] = df['year'].apply(lambda x: str(x))\n",
    "    df['month'] = df['month'].apply(lambda x: str(x))\n",
    "    def f(x):\n",
    "        return (x['year']+'-'+x['month'])\n",
    "    df['year_month'] = df.apply(f,axis=1)\n",
    "    return df\n",
    "\n",
    "data = f(data)"
   ]
  },
  {
   "cell_type": "code",
   "execution_count": null,
   "metadata": {},
   "outputs": [],
   "source": [
    "data['year'] = data['year'].apply(lambda x: int(x) if x !='' else 0 )\n",
    "data['month'] = data['month'].apply(lambda x: int(x) if x !='' else 0)\n",
    "sum_2017_month = pd.DataFrame(data[data['year'] > 2016].groupby(data['year_month']).sum())"
   ]
  },
  {
   "cell_type": "code",
   "execution_count": null,
   "metadata": {},
   "outputs": [],
   "source": [
    "data.reset_index(inplace = True,drop= True)"
   ]
  },
  {
   "cell_type": "code",
   "execution_count": null,
   "metadata": {},
   "outputs": [],
   "source": [
    "sum_2017_month"
   ]
  }
 ],
 "metadata": {
  "kernelspec": {
   "display_name": "Python 3",
   "language": "python",
   "name": "python3"
  },
  "language_info": {
   "codemirror_mode": {
    "name": "ipython",
    "version": 3
   },
   "file_extension": ".py",
   "mimetype": "text/x-python",
   "name": "python",
   "nbconvert_exporter": "python",
   "pygments_lexer": "ipython3",
   "version": "3.7.4"
  }
 },
 "nbformat": 4,
 "nbformat_minor": 2
}
